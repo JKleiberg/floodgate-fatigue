{
 "cells": [
  {
   "cell_type": "code",
   "execution_count": null,
   "metadata": {
    "ExecuteTime": {
     "end_time": "2021-06-15T14:59:39.719313Z",
     "start_time": "2021-06-15T14:59:37.799020Z"
    }
   },
   "outputs": [],
   "source": [
    "import sys\n",
    "import os\n",
    "import numpy as np\n",
    "import dill\n",
    "from cycler import cycler\n",
    "%matplotlib inline\n",
    "import matplotlib.pyplot as plt\n",
    "root_dir = os.path.join(os.getcwd(), '..')\n",
    "sys.path.append(root_dir)\n",
    "from src.utilities.AttrDict import AttrDict\n",
    "GEOMETRY = AttrDict()\n",
    "GATE = AttrDict()\n",
    "from src.configuration import t#, dt, n_x, n_z, rho_s, dx, dz\n",
    "# from scipy.interpolate import interp1d, InterpolatedUnivariateSpline\n",
    "from src.utilities.nearest import nearest\n",
    "from src.initialisation.initialise_main import initialisation\n",
    "from src.pressure import pressure\n",
    "from src.stress import stress_time\n",
    "from src.fatigue import fatigue\n",
    "\n",
    "# Plotting options\n",
    "plt.rcParams['font.family'] = 'serif'\n",
    "plt.rcParams['font.serif'] = ['Helvetica'] + plt.rcParams['font.serif']\n",
    "params = {'legend.fontsize': 'large',\n",
    "          'figure.figsize': (15, 5),\n",
    "         'axes.labelsize': 'large',\n",
    "         'axes.titlesize':'large',\n",
    "         'xtick.labelsize':'large',\n",
    "         'ytick.labelsize':'large'}\n",
    "plt.rcParams.update(params)\n",
    "plt.rcParams['axes.prop_cycle'] = cycler(color=['#000000'])"
   ]
  },
  {
   "cell_type": "markdown",
   "metadata": {},
   "source": [
    "Specify the name of the load case and the amount of modes to consider, and initialize the model.\n",
    "For new gate designs the entire notebook should be reset and re-initialized."
   ]
  },
  {
   "cell_type": "code",
   "execution_count": null,
   "metadata": {
    "ExecuteTime": {
     "end_time": "2021-06-15T14:59:40.727960Z",
     "start_time": "2021-06-15T14:59:39.721348Z"
    }
   },
   "outputs": [],
   "source": [
    "GATE.case   = 'Gate1_test'\n",
    "GATE.n_modes= 16\n",
    "GATE.Ly     = 1 # Overhang length\n",
    "GATE.zeta   = 0.02 # Damping\n",
    "GATE.cdamp  = 0 # Distributed damping\n",
    "GATE.HEIGHT = 7.5\n",
    "GATE.WIDTH  = 10\n",
    "## Heights of horizontal stiffeners\n",
    "GEOMETRY.Height  = 2.55\n",
    "GEOMETRY.Height2 = 5.0\n",
    "GEOMETRY.Height3 = GATE.HEIGHT\n",
    "## X-coordinates of vertical stiffeners\n",
    "GEOMETRY.Width  = 2.5\n",
    "GEOMETRY.Width2 = 5\n",
    "GEOMETRY.Width3 = 7.45\n",
    "GEOMETRY.Width4 = GATE.WIDTH\n",
    "## Stiffener depths\n",
    "GEOMETRY.LengthHorRibs  = 0.71\n",
    "GEOMETRY.LengthVertRibs = 0.71\n",
    "## Supports (Left-Bottom-Right-Top)\n",
    "GEOMETRY.Stiffness  = 3e11\n",
    "GEOMETRY.Stiffness2 = 0\n",
    "GEOMETRY.Stiffness3 = 3e11\n",
    "GEOMETRY.Stiffness4 = 0\n",
    "## Element thicknesses\n",
    "GEOMETRY.Platethickness    = 0.05\n",
    "GEOMETRY.RibThicknessHor   = 0.1\n",
    "GEOMETRY.RibThicknessHor2  = 0.1\n",
    "GEOMETRY.RibThicknessHor3  = 0.1\n",
    "GEOMETRY.RibThicknessHor4  = 0.1\n",
    "GEOMETRY.RibThicknessVert  = 0.1\n",
    "GEOMETRY.RibThicknessVert2 = 0.1\n",
    "GEOMETRY.RibThicknessVert3 = 0.1\n",
    "GEOMETRY.RibThicknessVert4 = 0.1\n",
    "GEOMETRY.RibThicknessVert5 = 0.1\n",
    "GATE.GEOMETRY = GEOMETRY\n",
    "\n",
    "GATE = initialisation(GATE, overwrite=False)"
   ]
  },
  {
   "cell_type": "markdown",
   "metadata": {
    "heading_collapsed": true
   },
   "source": [
    "# Load case definition\n",
    "Probability distributions are derived from historical data and condensed into discrete load cases."
   ]
  },
  {
   "cell_type": "markdown",
   "metadata": {
    "hidden": true
   },
   "source": [
    "First the raw data is read from the specified text files and formatted in a DataFrame. The formatted data is then stored in the 02_preprocessing folder."
   ]
  },
  {
   "cell_type": "code",
   "execution_count": null,
   "metadata": {
    "ExecuteTime": {
     "end_time": "2021-06-15T12:03:44.224911Z",
     "start_time": "2021-06-15T12:03:24.391078Z"
    },
    "hidden": true,
    "scrolled": false
   },
   "outputs": [],
   "source": [
    "from src.loadcases import import_raw_data, create_pdf, binning, binfilter\n",
    "fig, raw_data = import_raw_data(windfile='KNMI_20201124_hourly.txt', waterfile='20201105_007.csv', bins=25)\n",
    "fig"
   ]
  },
  {
   "cell_type": "markdown",
   "metadata": {
    "hidden": true
   },
   "source": [
    "Next, the data is pre-processed and transformed into two probability distributions which also account for climate change."
   ]
  },
  {
   "cell_type": "code",
   "execution_count": null,
   "metadata": {
    "ExecuteTime": {
     "end_time": "2021-06-15T12:07:41.195054Z",
     "start_time": "2021-06-15T12:03:44.226906Z"
    },
    "code_folding": [],
    "hidden": true
   },
   "outputs": [],
   "source": [
    "fig, dists = create_pdf(raw_data, rise=1, n_h=1e4, n_u=1e4, h_range=[2,10])\n",
    "fig"
   ]
  },
  {
   "cell_type": "markdown",
   "metadata": {
    "hidden": true
   },
   "source": [
    "The probability distributions are then integrated into discrete sections, whose expected values will represent the properties of the discrete load cases. The probability of occurrence is found by integrating the probability density over the area of the segment."
   ]
  },
  {
   "cell_type": "code",
   "execution_count": null,
   "metadata": {
    "ExecuteTime": {
     "end_time": "2021-06-14T11:36:57.340060Z",
     "start_time": "2021-06-14T11:36:57.332492Z"
    },
    "hidden": true
   },
   "outputs": [],
   "source": [
    "with open('../data/03_loadevents/pdfs.cp.pkl', 'rb') as file:\n",
    "    dists = dill.load(file)"
   ]
  },
  {
   "cell_type": "code",
   "execution_count": null,
   "metadata": {
    "ExecuteTime": {
     "end_time": "2021-06-14T11:36:59.064302Z",
     "start_time": "2021-06-14T11:36:58.027691Z"
    },
    "hidden": true
   },
   "outputs": [],
   "source": [
    "fig1, u_bins, h_bins, cases = binning(dists, h_res=0.1, u_res=1)\n",
    "fig1"
   ]
  },
  {
   "cell_type": "markdown",
   "metadata": {
    "hidden": true
   },
   "source": [
    "The load cases are then filtered based on their probability of occurrence and their intensity."
   ]
  },
  {
   "cell_type": "code",
   "execution_count": null,
   "metadata": {
    "ExecuteTime": {
     "end_time": "2021-06-14T11:37:37.105655Z",
     "start_time": "2021-06-14T11:37:02.209525Z"
    },
    "hidden": true
   },
   "outputs": [],
   "source": [
    "fig2, filtcases = binfilter(cases, GATE, freqfilter=True, intensityfilter=True)\n",
    "fig2"
   ]
  },
  {
   "cell_type": "markdown",
   "metadata": {
    "hidden": true
   },
   "source": [
    "## Discrete load case resolution\n",
    "An analysis of the effect of different load case resolutions on the variance of the response."
   ]
  },
  {
   "cell_type": "code",
   "execution_count": null,
   "metadata": {
    "ExecuteTime": {
     "end_time": "2021-06-15T11:04:09.309983Z",
     "start_time": "2021-06-15T09:28:55.633632Z"
    },
    "code_folding": [
     0,
     24
    ],
    "hidden": true
   },
   "outputs": [],
   "source": [
    "from src.loadcases import sensitivity_discretisation\n",
    "\n",
    "h_res_list = [0.001, 0.1, 0.5, 1, 1.5]\n",
    "u_res_list = [0.1, 1, 2, 5, 10, 20]\n",
    "h_sea = 6\n",
    "u_wind = 40\n",
    "fig = sensitivity_discretisation(h_sea, h_res_list, u_wind, u_res_list, runs=250, coords=(5,1,7.5), overwrite=False)\n",
    "fig"
   ]
  },
  {
   "cell_type": "markdown",
   "metadata": {
    "heading_collapsed": true
   },
   "source": [
    "# Fatigue over gate surface\n",
    "Calculating the fatigue due to a given load event at every point on the gate's surface to identify the distribution and critical coordinates."
   ]
  },
  {
   "cell_type": "markdown",
   "metadata": {
    "hidden": true
   },
   "source": [
    "The next cell plots the fatigue across the gate for one or multiple gate designs, and determines the coordinate where the most fatigue occurs."
   ]
  },
  {
   "cell_type": "code",
   "execution_count": null,
   "metadata": {
    "ExecuteTime": {
     "end_time": "2021-06-15T14:59:42.380897Z",
     "start_time": "2021-06-15T14:59:42.007027Z"
    },
    "hidden": true
   },
   "outputs": [],
   "source": [
    "from src.full_gate_fatigue import fatigue_gate, plot_fatigue_gate, modalstresscontribution, modalfatiguecontribution\n",
    "\n",
    "u_wind = 20\n",
    "h_sea = 7\n",
    "GATE, damage_gate, modeshare = fatigue_gate(u_wind, h_sea, cat=100, ID=GATE.case, overwrite=False)\n",
    "# plot_fatigue_gate(['Gate1_test', 'Gate1_test_1mode'], ['16 modes', '1 mode'], u_wind, h_sea)\n",
    "plot_fatigue_gate(['Gate1_test'], ['16 modes'], u_wind, h_sea)"
   ]
  },
  {
   "cell_type": "markdown",
   "metadata": {
    "heading_collapsed": true,
    "hidden": true
   },
   "source": [
    "## Mode contribution\n",
    "Various ways of determining the relative importance of different modes on the total response across the gate."
   ]
  },
  {
   "cell_type": "code",
   "execution_count": null,
   "metadata": {
    "ExecuteTime": {
     "end_time": "2021-06-15T14:08:20.220571Z",
     "start_time": "2021-06-15T14:08:18.790503Z"
    },
    "code_folding": [
     3
    ],
    "hidden": true
   },
   "outputs": [],
   "source": [
    "import matplotlib.colors as colors\n",
    "from mpl_toolkits.mplot3d.art3d import Poly3DCollection\n",
    "\n",
    "def plot_modeshare_gate_6(modes, modeshare):\n",
    "    \"\"\"Plots the contribution of mode(s) to the total fatigue at every gate coordinate.\n",
    "\n",
    "    Parameters:\n",
    "    modes: The mode(s) whose contribution to fatigue should be plotted (-)\n",
    "    modeshare: List of mode contributions for every gate coordinate (%)\n",
    "\n",
    "    \"\"\"\n",
    "\n",
    "    # Determine % of stress caused by specified modes\n",
    "    fig = plt.figure(figsize=[15,25])\n",
    "\n",
    "    for m, mode in enumerate(modes): \n",
    "        share = np.array([point[mode-1]/sum(point)*100 for point in modeshare])\n",
    "        ax = fig.add_subplot(3, 2, m+1, projection='3d')\n",
    "        Zmin = 0\n",
    "        Zmax = 100\n",
    "        cmap = plt.cm.Reds\n",
    "        norm = colors.Normalize(Zmin,Zmax)\n",
    "\n",
    "        coords = []\n",
    "        response = []\n",
    "        for face in GATE.faces:\n",
    "            coords.append(GATE.coords[face-1])\n",
    "            response.append(share[face-1].mean())\n",
    "\n",
    "        facets = Poly3DCollection(coords)\n",
    "        facets.set_facecolor(cmap(norm(response)))\n",
    "        facets.set_edgecolor('dimgray')\n",
    "        ax.add_collection3d(facets)\n",
    "\n",
    "        cbar = fig.colorbar(plt.cm.ScalarMappable(cmap=cmap, norm=norm), fraction=0.03, pad=.1)\n",
    "        cbar.set_label(\"Share of stress response [%]\", rotation=270, labelpad=10)\n",
    "\n",
    "        plotmodes = ', '.join(map(str, modes))\n",
    "        ax.set_title('Mode %s ($f_{dry}=%s$ Hz)'%(mode, round(GATE.dry_freqs[mode-1],1)))\n",
    "        ax.set_xlabel('X [m]')\n",
    "        ax.set_ylabel('Y [m]')\n",
    "        ax.set_zlabel('Z [m]')\n",
    "        ax.set_xlim3d(0, GATE.WIDTH)\n",
    "        ax.set_ylim3d(-4,4)\n",
    "        ax.set_zlim3d(0,8)\n",
    "        ax.xaxis.pane.fill = False\n",
    "        ax.yaxis.pane.fill = False\n",
    "        ax.zaxis.pane.fill = False\n",
    "        ax.xaxis.pane.set_edgecolor('w')\n",
    "        ax.yaxis.pane.set_edgecolor('w')\n",
    "        ax.zaxis.pane.set_edgecolor('w')\n",
    "        ax.set_box_aspect((GATE.WIDTH, 8, 7.5))\n",
    "        ax.view_init(30, 50)\n",
    "        plt.close(fig)\n",
    "    return fig\n",
    "\n",
    "plot_modeshare_gate_6([1,2,3,6,13,14], modeshare)"
   ]
  },
  {
   "cell_type": "markdown",
   "metadata": {
    "ExecuteTime": {
     "end_time": "2021-06-14T08:35:46.885490Z",
     "start_time": "2021-06-14T08:35:46.862587Z"
    },
    "hidden": true
   },
   "source": [
    "The contribution of the different modes to the total stress in the gate is plotted. The leftmost plot shows the distribution across all gate coordinates and the rightmost one the distribution at the critical coordinate."
   ]
  },
  {
   "cell_type": "code",
   "execution_count": null,
   "metadata": {
    "ExecuteTime": {
     "end_time": "2021-06-14T08:35:58.316646Z",
     "start_time": "2021-06-14T08:35:57.949748Z"
    },
    "hidden": true
   },
   "outputs": [],
   "source": [
    "modalstresscontribution(modeshare, max_coords)"
   ]
  },
  {
   "cell_type": "markdown",
   "metadata": {
    "hidden": true
   },
   "source": [
    "This plot shows the effect on the fatigue when a given mode is removed from the response. A value of 60% means that 60% of the fatigue is lost (does not add up to 100%)."
   ]
  },
  {
   "cell_type": "code",
   "execution_count": null,
   "metadata": {
    "ExecuteTime": {
     "end_time": "2021-06-13T17:57:12.953088Z",
     "start_time": "2021-06-13T17:56:38.227329Z"
    },
    "hidden": true
   },
   "outputs": [],
   "source": [
    "fig, shares = modalfatiguecontribution(u_wind, h_sea, max_coords, cat=100, save=False)\n",
    "fig"
   ]
  },
  {
   "cell_type": "markdown",
   "metadata": {
    "hidden": true
   },
   "source": [
    "This plot shows the combined contribution of a given set of modes to the total stress at every coordinate."
   ]
  },
  {
   "cell_type": "code",
   "execution_count": null,
   "metadata": {
    "ExecuteTime": {
     "end_time": "2021-06-13T17:57:13.248822Z",
     "start_time": "2021-06-13T17:57:12.957892Z"
    },
    "hidden": true,
    "scrolled": false
   },
   "outputs": [],
   "source": [
    "from src.full_gate_fatigue import plot_modeshare_gate\n",
    "modes = [1]\n",
    "plot_modeshare_gate(modes, modeshare)"
   ]
  },
  {
   "cell_type": "markdown",
   "metadata": {
    "heading_collapsed": true
   },
   "source": [
    "# Full lifetime fatigue analysis\n",
    "This section uses the load cases from Section 1 to compute a probabilistic estimate of the lifetime fatigue"
   ]
  },
  {
   "cell_type": "markdown",
   "metadata": {
    "hidden": true
   },
   "source": [
    "First, define the coordinates to evaluate and the name under which the results should be stored."
   ]
  },
  {
   "cell_type": "code",
   "execution_count": null,
   "metadata": {
    "ExecuteTime": {
     "end_time": "2021-06-14T09:34:57.932694Z",
     "start_time": "2021-06-14T09:34:57.928702Z"
    },
    "hidden": true
   },
   "outputs": [],
   "source": [
    "coords = GATE.max_coords\n",
    "version = GATE.case\n",
    "print(coords, version)"
   ]
  },
  {
   "cell_type": "markdown",
   "metadata": {
    "ExecuteTime": {
     "end_time": "2021-06-03T10:01:25.531566Z",
     "start_time": "2021-06-03T10:01:25.520579Z"
    },
    "hidden": true
   },
   "source": [
    "The following function evaluates the fatigue for all previously derived load cases at the coordinate specified above, and performs a probabilistic fatigue lifetime simulation (can take an hour for new cases). If the version name has already been used before, the existing data will be loaded instead."
   ]
  },
  {
   "cell_type": "code",
   "execution_count": null,
   "metadata": {
    "ExecuteTime": {
     "end_time": "2021-06-14T09:35:01.437112Z",
     "start_time": "2021-06-14T09:34:58.746348Z"
    },
    "hidden": true
   },
   "outputs": [],
   "source": [
    "from src.lifetime import generate_fatigue, simulations\n",
    "\n",
    "damage_list = generate_fatigue(coords, version, N=1e6)\n",
    "fig, D_expected, totals, [maxes,means,mins] = simulations(runs=1000, version=version, average_only=False)"
   ]
  },
  {
   "cell_type": "markdown",
   "metadata": {
    "heading_collapsed": true
   },
   "source": [
    "# ULS check\n",
    "Use the same probabilistic model to perform a ULS-check for a normative event."
   ]
  },
  {
   "cell_type": "markdown",
   "metadata": {
    "hidden": true
   },
   "source": [
    "This cell derives the normative load event based on 1/10.000 year wind conditions and a water level equal to the overhang, based on the environmental data. Can also be manually defined."
   ]
  },
  {
   "cell_type": "code",
   "execution_count": null,
   "metadata": {
    "ExecuteTime": {
     "end_time": "2021-06-15T15:01:18.196791Z",
     "start_time": "2021-06-15T15:01:17.507991Z"
    },
    "hidden": true
   },
   "outputs": [],
   "source": [
    "import scipy.stats as ss\n",
    "h_sea = GATE.HEIGHT\n",
    "\n",
    "with open('../data/03_loadevents/u_dist.pkl', 'rb') as f:\n",
    "    fit = dill.load(f)\n",
    "prob = (10000*365.25*24)**-1\n",
    "u_wind = ss.lognorm(*fit).ppf(1-prob)\n",
    "_,_,_,Hs,_ = pressure(u_wind, h_sea)\n",
    "print(\"Esimated once per 10.000 years wind velocity condition is \"+\n",
    "      str(round(u_wind,2))+'m/s (Hs='+str(round(Hs,2))+'m).')\n",
    "\n",
    "with open('../data/03_loadevents/pdfs.cp.pkl', 'rb') as file:  \n",
    "    x_h, hcc_pdf, x_u, u_pdf = dill.load(file)\n",
    "res = 0.1\n",
    "slice_h = (x_h > h_sea-res/2) & (x_h < h_sea+res/2)\n",
    "print(\"Combined probability of %s\"%round(np.trapz(hcc_pdf[slice_h], x=x_h[slice_h])/10000, 10))"
   ]
  },
  {
   "cell_type": "code",
   "execution_count": null,
   "metadata": {
    "ExecuteTime": {
     "end_time": "2021-06-15T15:01:19.338730Z",
     "start_time": "2021-06-15T15:01:18.819314Z"
    },
    "hidden": true
   },
   "outputs": [],
   "source": [
    "from src.analyses.uls_simulations import uls_simulations, uls_plot\n",
    "runs = 1000\n",
    "f_yd = 355\n",
    "version='1'\n",
    "\n",
    "max_stresses = uls_simulations(h_sea, u_wind, GATE.max_coords, runs, version=version)\n",
    "fig = uls_plot(runs, 355, version)\n",
    "fig"
   ]
  },
  {
   "cell_type": "code",
   "execution_count": null,
   "metadata": {
    "hidden": true
   },
   "outputs": [],
   "source": []
  }
 ],
 "metadata": {
  "kernelspec": {
   "display_name": "Python 3",
   "language": "python",
   "name": "python3"
  },
  "language_info": {
   "codemirror_mode": {
    "name": "ipython",
    "version": 3
   },
   "file_extension": ".py",
   "mimetype": "text/x-python",
   "name": "python",
   "nbconvert_exporter": "python",
   "pygments_lexer": "ipython3",
   "version": "3.7.9"
  },
  "toc": {
   "base_numbering": 1,
   "nav_menu": {},
   "number_sections": true,
   "sideBar": true,
   "skip_h1_title": false,
   "title_cell": "Table of Contents",
   "title_sidebar": "Contents",
   "toc_cell": false,
   "toc_position": {},
   "toc_section_display": true,
   "toc_window_display": false
  }
 },
 "nbformat": 4,
 "nbformat_minor": 4
}
